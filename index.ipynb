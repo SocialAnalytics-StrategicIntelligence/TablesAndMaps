{
 "cells": [
  {
   "cell_type": "markdown",
   "metadata": {
    "id": "Rq_-jS9HtUU-"
   },
   "source": [
    "<img src=\"https://i.imgur.com/6U6q5jQ.png\"/>"
   ]
  },
  {
   "cell_type": "markdown",
   "metadata": {
    "id": "-cCaZ1r2tUVA"
   },
   "source": [
    "# The Geo Dataframe\n",
    "\n",
    "The geodataframe (GDF) is a dataframe (DF) where every row represents an spatial element (point, line, polygon).\n",
    "\n",
    "Historically, the most common file type that stores spatial elements is the shapefile. Let's take a look at some of them:\n",
    "\n",
    "1. In GitHub (cloud), create a repository named: introgeodf.\n",
    "2. Clone that repo to a local folder in your computer.\n",
    "3. In that local folder in your computer, create a folder named **maps**.\n",
    "4. Go to this [website](https://www.efrainmaps.es/english-version/free-downloads/world/).\n",
    "5. Download three map files into the folder **maps** in your computer: *countries*, *cities*, and *rivers*."
   ]
  },
  {
   "cell_type": "markdown",
   "metadata": {
    "id": "PhGJmen1tUVB"
   },
   "source": [
    "You may see something like this:\n",
    "\n",
    "<img src=\"https://github.com/CienciaDeDatosEspacial/code_and_data/blob/main/mapsFolderImage.png?raw=true\">"
   ]
  },
  {
   "cell_type": "markdown",
   "metadata": {
    "id": "HBs3ovRstUVB"
   },
   "source": [
    "You can decompress those files:\n",
    "\n",
    "<img title=\"a title\" alt=\"Alt text\" src=\"https://github.com/CienciaDeDatosEspacial/code_and_data/blob/main/folderRar_1.png?raw=true\">"
   ]
  },
  {
   "cell_type": "markdown",
   "metadata": {
    "id": "OzvFDa2JtUVB"
   },
   "source": [
    "Now, take a look a **World_Countries**:\n",
    "\n",
    "<img src=\"https://github.com/CienciaDeDatosEspacial/code_and_data/blob/main/imageCountries_shp.png?raw=true\">"
   ]
  },
  {
   "cell_type": "markdown",
   "metadata": {
    "id": "BUOIWMOTtUVB"
   },
   "source": [
    "There, you see that this **one map** requires **several files**. That is the nature of the shapefile.\n",
    "\n",
    "Let's read the file with the help of **geopandas**:"
   ]
  },
  {
   "cell_type": "code",
   "execution_count": null,
   "metadata": {
    "id": "KJV5G0POtUVB"
   },
   "outputs": [],
   "source": [
    "import os, geopandas as gpd\n",
    "\n",
    "countries=gpd.read_file(os.path.join(\"maps\",\"World_Countries\",\"World_Countries.shp\"))"
   ]
  },
  {
   "cell_type": "markdown",
   "metadata": {
    "id": "a5AOj3mktUVC"
   },
   "source": [
    "Let's use some familiar DF functions:"
   ]
  },
  {
   "cell_type": "code",
   "execution_count": null,
   "metadata": {
    "id": "BTVBGfNatUVC"
   },
   "outputs": [],
   "source": [
    "# what is it?\n",
    "type(countries)"
   ]
  },
  {
   "cell_type": "code",
   "execution_count": null,
   "metadata": {
    "id": "AkvWskZytUVC"
   },
   "outputs": [],
   "source": [
    "# dimensions\n",
    "countries.shape"
   ]
  },
  {
   "cell_type": "code",
   "execution_count": null,
   "metadata": {
    "id": "ETJdBBR1tUVD"
   },
   "outputs": [],
   "source": [
    "# names\n",
    "countries.columns"
   ]
  },
  {
   "cell_type": "code",
   "execution_count": null,
   "metadata": {
    "id": "QrbZt4g5tUVD"
   },
   "outputs": [],
   "source": [
    "# some content\n",
    "countries.head()"
   ]
  },
  {
   "cell_type": "code",
   "execution_count": null,
   "metadata": {
    "id": "vPHdGEtatUVD"
   },
   "outputs": [],
   "source": [
    "# any missing values?\n",
    "countries[countries.isna().any(axis=1)]"
   ]
  },
  {
   "cell_type": "code",
   "execution_count": null,
   "metadata": {
    "id": "TWXmBv-vtUVD",
    "scrolled": true
   },
   "outputs": [],
   "source": [
    "# types\n",
    "countries.info()"
   ]
  },
  {
   "cell_type": "markdown",
   "metadata": {
    "id": "QzT4ctrjtUVD"
   },
   "source": [
    "As you see, every pandas command is working, but now we have a new column type: **geometry**. Let's see this map of countries:"
   ]
  },
  {
   "cell_type": "code",
   "execution_count": null,
   "metadata": {
    "id": "DjMj9myHtUVD"
   },
   "outputs": [],
   "source": [
    "countries.plot(facecolor=\"azure\",#color of polygon fill\n",
    "               edgecolor='black', #color of lines\n",
    "               linewidth=0.1) #thickness of lines"
   ]
  },
  {
   "cell_type": "markdown",
   "metadata": {
    "id": "iCtifGnqtUVD"
   },
   "source": [
    "Let's open the other maps:"
   ]
  },
  {
   "cell_type": "code",
   "execution_count": null,
   "metadata": {
    "id": "lPbJ4wFHtUVD"
   },
   "outputs": [],
   "source": [
    "rivers=gpd.read_file(os.path.join(\"maps\",\"World_Hydrography\",\"World_Hydrography.shp\"))\n",
    "cities=gpd.read_file(os.path.join(\"maps\",\"World_Cities\",\"World_Cities.shp\"))"
   ]
  },
  {
   "cell_type": "markdown",
   "metadata": {},
   "source": [
    "This is the rivers map:"
   ]
  },
  {
   "cell_type": "code",
   "execution_count": null,
   "metadata": {
    "id": "8Gap_au4tUVD"
   },
   "outputs": [],
   "source": [
    "rivers.plot(edgecolor='blue',\n",
    "            linewidth=1,\n",
    "            linestyle='dotted')"
   ]
  },
  {
   "cell_type": "markdown",
   "metadata": {},
   "source": [
    "This is the cities map:"
   ]
  },
  {
   "cell_type": "code",
   "execution_count": null,
   "metadata": {
    "id": "8nAC2GkptUVD"
   },
   "outputs": [],
   "source": [
    "cities.plot(marker='.', # marker type\n",
    "            color='red',\n",
    "            markersize=1,\n",
    "            alpha=0.3) # transparency"
   ]
  },
  {
   "cell_type": "markdown",
   "metadata": {
    "id": "prkK6IA8tUVE"
   },
   "source": [
    "You can plot all the layers, as long as they share the same projection.\n",
    "Let's verify that all have the same projection (**CRS**):"
   ]
  },
  {
   "cell_type": "code",
   "execution_count": null,
   "metadata": {
    "id": "8G0MkpZ1tUVE"
   },
   "outputs": [],
   "source": [
    "countries.crs==cities.crs==cities.crs"
   ]
  },
  {
   "cell_type": "markdown",
   "metadata": {
    "id": "ZOiFM3uYtUVE"
   },
   "source": [
    "You can start by creating the layer on the back (the base), and add layers on top:"
   ]
  },
  {
   "cell_type": "code",
   "execution_count": null,
   "metadata": {
    "id": "rqkVAvHstUVE"
   },
   "outputs": [],
   "source": [
    "base = countries.plot(facecolor=\"white\",\n",
    "                      edgecolor='black',\n",
    "                      linewidth=0.1,\n",
    "                      figsize=(12,12))\n",
    "\n",
    "rivers.plot(edgecolor='blue', linewidth=0.4,\n",
    "            ax=base)# on top of...\n",
    "cities.plot(marker='.', color='red', markersize=1,alpha=0.7,\n",
    "            ax=base) # on top of...\n"
   ]
  },
  {
   "cell_type": "code",
   "execution_count": null,
   "metadata": {},
   "outputs": [],
   "source": [
    "countries.to_file(os.path.join(\"maps\",\"worldMap.gpkg\"),layer='countryBorders', driver=\"GPKG\")\n",
    "rivers.to_file(os.path.join(\"maps\",\"worldMap.gpkg\"),layer='riverLines', driver=\"GPKG\")\n",
    "cities.to_file(os.path.join(\"maps\",\"worldMap.gpkg\"),layer='cityPoints', driver=\"GPKG\")"
   ]
  },
  {
   "cell_type": "markdown",
   "metadata": {},
   "source": [
    "### Exercise 1\n",
    "<div class=\"alert-success\">\n",
    "\n",
    "1. Commit and push the recently created geopackage.\n",
    "    \n",
    "2. Get the link from Github to read the geopacake into R.\n",
    "    \n",
    "3. Using the sf library in R, confirm the layers created (use st_layers), and open each map (read_sf). Draw the three layers (as we did in Python) using ggplot.\n",
    "    \n",
    "</div>"
   ]
  },
  {
   "cell_type": "markdown",
   "metadata": {
    "id": "4WVBq3bUtUVE"
   },
   "source": [
    "## Subsetting\n",
    "\n",
    "You can subset your map by *filtering*:"
   ]
  },
  {
   "cell_type": "code",
   "execution_count": null,
   "metadata": {
    "id": "NsiI-8ZYtUVE"
   },
   "outputs": [],
   "source": [
    "brazil=countries[countries.COUNTRY=='Brazil']"
   ]
  },
  {
   "cell_type": "markdown",
   "metadata": {
    "id": "biux_VKutUVF"
   },
   "source": [
    "But you can also subset by *clipping*, as sometimes other data frames may not have the same fields for filtering:"
   ]
  },
  {
   "cell_type": "code",
   "execution_count": null,
   "metadata": {
    "id": "ltxxI2OotUVF"
   },
   "outputs": [],
   "source": [
    "citiesBrazil_clipped = gpd.clip(gdf=cities,\n",
    "                          mask=brazil)\n",
    "riversBrazil_clipped = gpd.clip(gdf=rivers,\n",
    "                               mask=brazil)"
   ]
  },
  {
   "cell_type": "markdown",
   "metadata": {
    "id": "2nXd5aiRtUVF"
   },
   "source": [
    "Then, you can plot the clipped version:"
   ]
  },
  {
   "cell_type": "code",
   "execution_count": null,
   "metadata": {
    "id": "dEfKc5nQtUVF"
   },
   "outputs": [],
   "source": [
    "base = brazil.plot(facecolor=\"greenyellow\", edgecolor='black', linewidth=0.4,figsize=(5,5))\n",
    "citiesBrazil_clipped.plot(marker='+', color='red', markersize=15,\n",
    "                    ax=base)\n",
    "riversBrazil_clipped.plot(edgecolor='blue', linewidth=0.5,\n",
    "                    ax=base)"
   ]
  },
  {
   "cell_type": "markdown",
   "metadata": {},
   "source": [
    "You can also check what geometries you have in your GDF:"
   ]
  },
  {
   "cell_type": "code",
   "execution_count": null,
   "metadata": {},
   "outputs": [],
   "source": [
    "brazil.geom_type"
   ]
  },
  {
   "cell_type": "code",
   "execution_count": null,
   "metadata": {},
   "outputs": [],
   "source": [
    "citiesBrazil_clipped.geom_type"
   ]
  },
  {
   "cell_type": "code",
   "execution_count": null,
   "metadata": {
    "scrolled": true
   },
   "outputs": [],
   "source": [
    "riversBrazil_clipped.geom_type"
   ]
  },
  {
   "cell_type": "markdown",
   "metadata": {},
   "source": [
    "Notice that the amount of elements (rows) is different, and that all those elements do not belong to the exact geometry type. "
   ]
  },
  {
   "cell_type": "markdown",
   "metadata": {
    "id": "FnrWwUWZtUVG"
   },
   "source": [
    "### Exercise 2\n",
    "<div class=\"alert-success\">\n",
    "\n",
    "1. Follow the same steps in this section, but use a different country.\n",
    "2. Plot your three layer in R.\n",
    "    \n",
    "</div>"
   ]
  },
  {
   "cell_type": "markdown",
   "metadata": {},
   "source": [
    "<a class=\"anchor\" id=\"1\"></a>\n",
    "\n",
    "## Map Projection\n",
    "\n",
    "The CRS is a very important property of the maps. They affect three aspects:\n",
    "\n",
    "* shape\n",
    "* area\n",
    "* scale\n",
    "* direction\n",
    "\n",
    "Most maps come with a default CRS: 4326. Pay attention:"
   ]
  },
  {
   "cell_type": "code",
   "execution_count": null,
   "metadata": {},
   "outputs": [],
   "source": [
    "# check units\n",
    "brazil.crs.axis_info"
   ]
  },
  {
   "cell_type": "markdown",
   "metadata": {},
   "source": [
    "Polygons have a centroid. When we try getting a centroid from an **unprojected** polygon, you get: "
   ]
  },
  {
   "cell_type": "code",
   "execution_count": null,
   "metadata": {},
   "outputs": [],
   "source": [
    "# centroid\n",
    "brazil.centroid"
   ]
  },
  {
   "cell_type": "markdown",
   "metadata": {},
   "source": [
    "### Reprojecting"
   ]
  },
  {
   "cell_type": "markdown",
   "metadata": {},
   "source": [
    "A projected CRS will have units in meters or feet (or similar). You can request a crs per country [here](https://epsg.io/?q=brazil+kind%3APROJCRS):"
   ]
  },
  {
   "cell_type": "code",
   "execution_count": null,
   "metadata": {},
   "outputs": [],
   "source": [
    "# recommended for Brazil (meters)\n",
    "brazil.to_crs(5641).crs.axis_info"
   ]
  },
  {
   "cell_type": "code",
   "execution_count": null,
   "metadata": {},
   "outputs": [],
   "source": [
    "# now this works\n",
    "brazil.to_crs(5641).centroid"
   ]
  },
  {
   "cell_type": "code",
   "execution_count": null,
   "metadata": {},
   "outputs": [],
   "source": [
    "# replotting:\n",
    "\n",
    "base5641=brazil.to_crs(5641).plot()\n",
    "brazil.to_crs(5641).centroid.plot(color='red',ax=base5641)"
   ]
  },
  {
   "cell_type": "markdown",
   "metadata": {},
   "source": [
    "Let's keep the projected version for all our maps:"
   ]
  },
  {
   "cell_type": "code",
   "execution_count": null,
   "metadata": {},
   "outputs": [],
   "source": [
    "brazil_5641=brazil.to_crs(5641)\n",
    "\n",
    "cities_brazil_5641=citiesBrazil_clipped.to_crs(brazil_5641.crs)\n",
    "\n",
    "rivers_brazil_5641=riversBrazil_clipped.to_crs(brazil_5641.crs)\n",
    "\n"
   ]
  },
  {
   "cell_type": "code",
   "execution_count": null,
   "metadata": {},
   "outputs": [],
   "source": [
    "# saving \n",
    "import os\n",
    "\n",
    "brazil_5641.to_file(os.path.join(\"maps\",\"brazilMaps_5641.gpkg\"), layer='country', driver=\"GPKG\")\n",
    "cities_brazil_5641.to_file(os.path.join(\"maps\",\"brazilMaps_5641.gpkg\"), layer='cities', driver=\"GPKG\")\n",
    "rivers_brazil_5641.to_file(os.path.join(\"maps\",\"brazilMaps_5641.gpkg\"), layer='rivers', driver=\"GPKG\")"
   ]
  },
  {
   "cell_type": "code",
   "execution_count": null,
   "metadata": {},
   "outputs": [],
   "source": [
    "brazil_5641.centroid"
   ]
  },
  {
   "cell_type": "code",
   "execution_count": null,
   "metadata": {},
   "outputs": [],
   "source": [
    "brazil_5641.centroid.to_file(os.path.join(\"maps\",\"brazilMaps_5641.gpkg\"), layer='centroid', driver=\"GPKG\")"
   ]
  },
  {
   "cell_type": "markdown",
   "metadata": {},
   "source": [
    "### Exercise 3\n",
    "<div class=\"alert-success\">\n",
    "\n",
    "1. Reproject your maps, choosing a suitable projection.\n",
    "2. Plot your reprojected map in R.\n",
    "    \n",
    "</div>"
   ]
  },
  {
   "cell_type": "markdown",
   "metadata": {},
   "source": [
    "<a class=\"anchor\" id=\"3\"></a>\n",
    "\n",
    "## Creating Spatial data\n",
    "\n",
    "You will get Lines and Polygons as maps for sure, but that may not be the case with points. Let me download a **CSV** file with information on the airports in Brazil from this [website](https://data.humdata.org/dataset/ourairports-bra), I will save it in my **data** folder:"
   ]
  },
  {
   "cell_type": "code",
   "execution_count": null,
   "metadata": {},
   "outputs": [],
   "source": [
    "import pandas as pd \n",
    "infoairports=pd.read_csv(os.path.join(\"data\",\"br-airports.csv\"))\n",
    "\n",
    "# some rows\n",
    "\n",
    "infoairports.iloc[[0,1,2,3,-4,-3,-2,-1],:] #head and tail"
   ]
  },
  {
   "cell_type": "markdown",
   "metadata": {},
   "source": [
    "This needs some cleaning:"
   ]
  },
  {
   "cell_type": "code",
   "execution_count": null,
   "metadata": {},
   "outputs": [],
   "source": [
    "# bye first row \n",
    "infoairports.drop(index=0,inplace=True)\n",
    "infoairports.reset_index(drop=True, inplace=True)\n",
    "infoairports.head()"
   ]
  },
  {
   "cell_type": "code",
   "execution_count": null,
   "metadata": {},
   "outputs": [],
   "source": [
    "# keep the  columns needed\n",
    "\n",
    "infoairports.columns"
   ]
  },
  {
   "cell_type": "code",
   "execution_count": null,
   "metadata": {},
   "outputs": [],
   "source": [
    "keep=['name','type','latitude_deg', 'longitude_deg','elevation_ft','region_name','municipality']\n",
    "infoairports=infoairports.loc[:,keep]"
   ]
  },
  {
   "cell_type": "code",
   "execution_count": null,
   "metadata": {},
   "outputs": [],
   "source": [
    "infoairports.info()"
   ]
  },
  {
   "cell_type": "markdown",
   "metadata": {},
   "source": [
    "Some formatting:"
   ]
  },
  {
   "cell_type": "code",
   "execution_count": null,
   "metadata": {},
   "outputs": [],
   "source": [
    "numericCols=['latitude_deg', 'longitude_deg','elevation_ft']\n",
    "infoairports[numericCols]=infoairports.loc[:,numericCols].apply(lambda x:pd.to_numeric(x))\n",
    "\n",
    "# now \n",
    "infoairports.info()"
   ]
  },
  {
   "cell_type": "code",
   "execution_count": null,
   "metadata": {},
   "outputs": [],
   "source": [
    "# let's plot\n",
    "\n",
    "base = brazil_5641.plot(color='white', edgecolor='black') #unprojected\n",
    "\n",
    "infoairports.plot.scatter(x = 'longitude_deg', y = 'latitude_deg',ax=base)"
   ]
  },
  {
   "cell_type": "markdown",
   "metadata": {},
   "source": [
    "Why is it wrong?"
   ]
  },
  {
   "cell_type": "code",
   "execution_count": null,
   "metadata": {},
   "outputs": [],
   "source": [
    "airports=gpd.GeoDataFrame(data=infoairports.copy(),\n",
    "                 geometry=gpd.points_from_xy(infoairports.longitude_deg,\n",
    "                                             infoairports.latitude_deg), \n",
    "                 crs=brazil.crs.to_epsg())# the coordinates were in degrees - unprojected"
   ]
  },
  {
   "cell_type": "code",
   "execution_count": null,
   "metadata": {},
   "outputs": [],
   "source": [
    "# does it look better?\n",
    "\n",
    "# let's plot\n",
    "\n",
    "base = brazil_5641.plot(color='white', edgecolor='black')\n",
    "airports.plot(ax=base)"
   ]
  },
  {
   "cell_type": "code",
   "execution_count": null,
   "metadata": {},
   "outputs": [],
   "source": [
    "#remember:\n",
    "type(airports), type(infoairports)"
   ]
  },
  {
   "cell_type": "markdown",
   "metadata": {},
   "source": [
    "Let's keep the projected version:"
   ]
  },
  {
   "cell_type": "code",
   "execution_count": null,
   "metadata": {},
   "outputs": [],
   "source": [
    "airports_5641=airports.to_crs(5641)\n",
    "\n",
    "## then\n",
    "\n",
    "base = brazil_5641.plot(color='white', edgecolor='black')\n",
    "airports_5641.plot(ax=base)"
   ]
  },
  {
   "cell_type": "markdown",
   "metadata": {},
   "source": [
    "Remember you have type of airports:"
   ]
  },
  {
   "cell_type": "code",
   "execution_count": null,
   "metadata": {},
   "outputs": [],
   "source": [
    "airports_5641['type'].value_counts() # this will not work: airports.type.value_counts()"
   ]
  },
  {
   "cell_type": "markdown",
   "metadata": {},
   "source": [
    "We may use that in the future. For now, just rename the **type** column to a different one."
   ]
  },
  {
   "cell_type": "code",
   "execution_count": null,
   "metadata": {},
   "outputs": [],
   "source": [
    "airports_5641.rename(columns={'type':'kind'},inplace=True)"
   ]
  },
  {
   "cell_type": "markdown",
   "metadata": {},
   "source": [
    "\n",
    "### Exercise 4\n",
    "\n",
    "<div class=\"alert-success\">\n",
    "\n",
    "1. Add **airports_5641** to the file ***brazilMaps_5641.gpkg** \n",
    "    \n",
    "2. Look for some points in a CSV file about your country (long-lat). Turn those point into a spatial object.\n",
    "    \n",
    "3. Update the geopackage with the Brazil layers with the layer of points.\n",
    "\n",
    "4. Plot all the layers in R.\n",
    "    \n",
    "</div>"
   ]
  },
  {
   "cell_type": "markdown",
   "metadata": {},
   "source": [
    "### Geo Merging\n",
    "\n",
    "Let me fetch a world map from this \n",
    "[website](https://public.opendatasoft.com/explore/dataset/world-administrative-boundaries/export/). Download the **geojson** format and save it your *maps* folder."
   ]
  },
  {
   "cell_type": "code",
   "execution_count": null,
   "metadata": {},
   "outputs": [],
   "source": [
    "import os\n",
    "\n",
    "world=gpd.read_file(os.path.join(\"maps\",\"world-administrative-boundaries.geojson\"))"
   ]
  },
  {
   "cell_type": "code",
   "execution_count": null,
   "metadata": {},
   "outputs": [],
   "source": [
    "world.crs"
   ]
  },
  {
   "cell_type": "code",
   "execution_count": null,
   "metadata": {},
   "outputs": [],
   "source": [
    "world.info()"
   ]
  },
  {
   "cell_type": "code",
   "execution_count": null,
   "metadata": {},
   "outputs": [],
   "source": [
    "world.head()"
   ]
  },
  {
   "cell_type": "code",
   "execution_count": null,
   "metadata": {},
   "outputs": [],
   "source": [
    "world[world.iso3.isnull()]"
   ]
  },
  {
   "cell_type": "code",
   "execution_count": null,
   "metadata": {},
   "outputs": [],
   "source": [
    "worldFullIso3=world[~world.iso3.isnull()]\n",
    "worldFullIso3.columns"
   ]
  },
  {
   "cell_type": "code",
   "execution_count": null,
   "metadata": {},
   "outputs": [],
   "source": [
    "byeColumns=['geo_point_2d','color_code','iso_3166_1_alpha_2_codes', 'french_short']\n",
    "worldFullIso3.drop(columns=byeColumns,inplace=True)\n",
    "worldFullIso3.reset_index(drop=True,inplace=True)\n"
   ]
  },
  {
   "cell_type": "code",
   "execution_count": null,
   "metadata": {},
   "outputs": [],
   "source": [
    "worldFullIso3"
   ]
  },
  {
   "cell_type": "markdown",
   "metadata": {},
   "source": [
    "Time to merge!"
   ]
  },
  {
   "cell_type": "code",
   "execution_count": null,
   "metadata": {},
   "outputs": [],
   "source": [
    "fragilityLink=\"https://github.com/SocialAnalytics-StrategicIntelligence/TableOperations/raw/main/dataFiles/fragility/fragilityCoded_2012_2023.pkl\"\n",
    "\n",
    "fragility=pd.read_pickle(fragilityLink)\n",
    "\n",
    "fragility.info()"
   ]
  },
  {
   "cell_type": "markdown",
   "metadata": {},
   "source": [
    "When you merge a GDF with a DF, **the GDF has to be on the left**:"
   ]
  },
  {
   "cell_type": "code",
   "execution_count": null,
   "metadata": {},
   "outputs": [],
   "source": [
    "theMapAndData=worldFullIso3.merge(fragility,on='iso3')\n",
    "# here it is:\n",
    "theMapAndData.info()"
   ]
  },
  {
   "cell_type": "markdown",
   "metadata": {},
   "source": [
    "Any missng values generated?"
   ]
  },
  {
   "cell_type": "code",
   "execution_count": null,
   "metadata": {},
   "outputs": [],
   "source": [
    "theMapAndData[theMapAndData.iso3.isnull()]"
   ]
  },
  {
   "cell_type": "code",
   "execution_count": null,
   "metadata": {},
   "outputs": [],
   "source": [
    "# duplicates?\n",
    "theMapAndData.iso3.value_counts()"
   ]
  },
  {
   "cell_type": "code",
   "execution_count": null,
   "metadata": {},
   "outputs": [],
   "source": [
    "set(theMapAndData.iso3.value_counts())"
   ]
  },
  {
   "cell_type": "code",
   "execution_count": null,
   "metadata": {},
   "outputs": [],
   "source": [
    "# let's check\n",
    "theMapAndData[theMapAndData.iso3.str.contains('PSE|PRT')]"
   ]
  },
  {
   "cell_type": "code",
   "execution_count": null,
   "metadata": {},
   "outputs": [],
   "source": [
    "# take a look:\n",
    "theMapAndData[theMapAndData.iso3.str.contains('PSE|PRT')].explore()"
   ]
  },
  {
   "cell_type": "code",
   "execution_count": null,
   "metadata": {},
   "outputs": [],
   "source": [
    "theMapAndData=theMapAndData[~((theMapAndData.iso3=='PRT') & (theMapAndData.name.str.startswith(\"Azores\")))]\n",
    "theMapAndData=theMapAndData[~((theMapAndData.iso3=='PSE') & (theMapAndData.name.str.startswith(\"West B\")))]\n",
    "\n",
    "theMapAndData.reset_index(drop=True, inplace=True)\n",
    "\n",
    "theMapAndData.info()"
   ]
  },
  {
   "cell_type": "markdown",
   "metadata": {},
   "source": [
    "## Choropleths"
   ]
  },
  {
   "cell_type": "code",
   "execution_count": null,
   "metadata": {},
   "outputs": [],
   "source": [
    "theMapAndData['Total_mnmx'].describe()"
   ]
  },
  {
   "cell_type": "code",
   "execution_count": null,
   "metadata": {},
   "outputs": [],
   "source": [
    "theMapAndData.boxplot(column=['Total_mnmx'])  "
   ]
  },
  {
   "cell_type": "code",
   "execution_count": null,
   "metadata": {},
   "outputs": [],
   "source": [
    "theMapAndData['Total_mnmx'].hist()"
   ]
  },
  {
   "cell_type": "markdown",
   "metadata": {},
   "source": [
    "Let's see other possibilities to cut the data (instead of the amount of intervals presented in the histogram), but please install [**numba**](https://numba.readthedocs.io/en/stable/user/installing.html) before runing the next code; also make sure you have **pysal**, **mapclassify** and **numpy** installed: "
   ]
  },
  {
   "cell_type": "code",
   "execution_count": null,
   "metadata": {},
   "outputs": [],
   "source": [
    "pip show numba pysal mapclassify numpy"
   ]
  },
  {
   "cell_type": "code",
   "execution_count": null,
   "metadata": {},
   "outputs": [],
   "source": [
    "import mapclassify \n",
    "import numpy as np\n",
    "\n",
    "np.random.seed(12345) # so we all get the same results!\n",
    "\n",
    "# let's try 5 intervals\n",
    "K=5\n",
    "theVar=theMapAndData.Total_mnmx\n",
    "# same interval width, easy interpretation\n",
    "ei5 = mapclassify.EqualInterval(theVar, k=K)\n",
    "# same interval width based on standard deviation, easy - but not as the previous one, poor when high skewness\n",
    "msd = mapclassify.StdMean(theVar)\n",
    "# interval width varies, counts per interval are close, not easy to grasp, repeated values complicate cuts                                \n",
    "q5=mapclassify.Quantiles(theVar,k=K)\n",
    "\n",
    "# based on similarity, good for multimodal data \n",
    "mb5 = mapclassify.MaximumBreaks(theVar, k=K)\n",
    "# based on similarity, good for skewed data\n",
    "ht = mapclassify.HeadTailBreaks(theVar) # no K needed\n",
    "# based on similarity, optimizer\n",
    "fj5 = mapclassify.FisherJenks(theVar, k=K)\n",
    "# based on similarity, optimizer\n",
    "jc5 = mapclassify.JenksCaspall(theVar, k=K)\n",
    "# based on similarity, optimizer\n",
    "mp5 = mapclassify.MaxP(theVar, k=K) "
   ]
  },
  {
   "cell_type": "markdown",
   "metadata": {},
   "source": [
    "How can we select the right classification?\n",
    "Let me use the the Absolute deviation around class median (ADCM) to make the comparisson:"
   ]
  },
  {
   "cell_type": "code",
   "execution_count": null,
   "metadata": {},
   "outputs": [],
   "source": [
    "class5 = ei5,msd, q5,mb5,  ht, fj5, jc5, mp5\n",
    "# Collect ADCM for each classifier\n",
    "fits = np.array([ c.adcm for c in class5])\n",
    "# Convert ADCM scores to a DataFrame\n",
    "adcms = pd.DataFrame(fits)\n",
    "# Add classifier names\n",
    "adcms['classifier'] = [c.name for c in class5]\n",
    "# Add column names to the ADCM\n",
    "adcms.columns = ['ADCM', 'Classifier']"
   ]
  },
  {
   "cell_type": "markdown",
   "metadata": {},
   "source": [
    "Now, plot the **adcms**:"
   ]
  },
  {
   "cell_type": "code",
   "execution_count": null,
   "metadata": {},
   "outputs": [],
   "source": [
    "adcms.sort_values('ADCM').plot.barh(x='Classifier')"
   ]
  },
  {
   "cell_type": "markdown",
   "metadata": {},
   "source": [
    "Let's save the best three strategies:"
   ]
  },
  {
   "cell_type": "code",
   "execution_count": null,
   "metadata": {},
   "outputs": [],
   "source": [
    "theMapAndData.loc[:,'Total_ei5'] = ei5.yb\n",
    "theMapAndData.loc[:,'Total_fj5'] = fj5.yb\n",
    "theMapAndData.loc[:,'Total_jc5'] = jc5.yb"
   ]
  },
  {
   "cell_type": "code",
   "execution_count": null,
   "metadata": {},
   "outputs": [],
   "source": [
    "# there you are\n",
    "theMapAndData"
   ]
  },
  {
   "cell_type": "markdown",
   "metadata": {},
   "source": [
    "Let's check the mean of 'Total_mnmx' by the labels of the columns created (from '0' to '4')"
   ]
  },
  {
   "cell_type": "code",
   "execution_count": null,
   "metadata": {},
   "outputs": [],
   "source": [
    "indexList=['Total_ei5','Total_fj5','Total_jc5']\n",
    "aggregator={'Total_mnmx': ['mean']}\n",
    "\n",
    "pd.concat([theMapAndData[['Total_mnmx',col]].groupby(col,as_index=False).agg(aggregator) for col in indexList],axis=1)\n",
    "    \n"
   ]
  },
  {
   "cell_type": "markdown",
   "metadata": {},
   "source": [
    "We can now rename using the previous results:"
   ]
  },
  {
   "cell_type": "code",
   "execution_count": null,
   "metadata": {},
   "outputs": [],
   "source": [
    "newLabelsForLevels={0:\"0_Very_Good\", 1:\"1_Good\", 2:\"2_Middle\", 3:\"3_Bad\", 4:\"4_Very_Bad\"}\n",
    "theMapAndData.loc[:,indexList]=theMapAndData.loc[:,indexList].replace(to_replace=newLabelsForLevels)\n",
    "theMapAndData"
   ]
  },
  {
   "cell_type": "code",
   "execution_count": null,
   "metadata": {},
   "outputs": [],
   "source": [
    "# we still have..\n",
    "type(theMapAndData)"
   ]
  },
  {
   "cell_type": "code",
   "execution_count": null,
   "metadata": {},
   "outputs": [],
   "source": [
    "# saving\n",
    "theMapAndData.to_file(os.path.join(\"maps\",\"theMapAndData.geojson\"), driver=\"GeoJSON\")"
   ]
  },
  {
   "cell_type": "markdown",
   "metadata": {},
   "source": [
    "Let's prepare a long shape:"
   ]
  },
  {
   "cell_type": "code",
   "execution_count": null,
   "metadata": {},
   "outputs": [],
   "source": [
    "# all\n",
    "theMapAndData.columns"
   ]
  },
  {
   "cell_type": "code",
   "execution_count": null,
   "metadata": {},
   "outputs": [],
   "source": [
    "# unneeded\n",
    "theMapAndData.loc[:,'Total':'iso2'].columns"
   ]
  },
  {
   "cell_type": "code",
   "execution_count": null,
   "metadata": {},
   "outputs": [],
   "source": [
    "# needed\n",
    "set(theMapAndData.columns) - set(theMapAndData.loc[:,'Total':'iso2'].columns)"
   ]
  },
  {
   "cell_type": "code",
   "execution_count": null,
   "metadata": {},
   "outputs": [],
   "source": [
    "# the process\n",
    "\n",
    "VarsNeeded=list(set(theMapAndData.columns) - set(theMapAndData.loc[:,'Total':'iso2'].columns))\n",
    "VarsForLong=['Total_ei5', 'Total_fj5', 'Total_jc5']\n",
    "theVarsAsIndex=list(set(VarsNeeded)-set(VarsForLong))\n",
    "\n",
    "theMapAndData_long=theMapAndData[VarsNeeded].set_index(theVarsAsIndex).stack().reset_index()\n",
    "theMapAndData_long"
   ]
  },
  {
   "cell_type": "code",
   "execution_count": null,
   "metadata": {},
   "outputs": [],
   "source": [
    "# renaming\n",
    "\n",
    "theMapAndData_long.rename(columns={'level_9':'class',0:'value_class'},inplace=True)\n",
    "theMapAndData_long"
   ]
  },
  {
   "cell_type": "code",
   "execution_count": null,
   "metadata": {},
   "outputs": [],
   "source": [
    "# still map?\n",
    "type(theMapAndData_long)"
   ]
  },
  {
   "cell_type": "code",
   "execution_count": null,
   "metadata": {},
   "outputs": [],
   "source": [
    "# re creating\n",
    "theMapAndData_long=gpd.GeoDataFrame(theMapAndData_long, geometry=theMapAndData_long.geometry, crs=\"EPSG:4326\")\n",
    "theMapAndData_long.info()"
   ]
  },
  {
   "cell_type": "code",
   "execution_count": null,
   "metadata": {},
   "outputs": [],
   "source": [
    "# saving\n",
    "theMapAndData_long.to_file(os.path.join(\"maps\",\"theMapAndData_long.geojson\"), driver=\"GeoJSON\")"
   ]
  },
  {
   "cell_type": "markdown",
   "metadata": {},
   "source": [
    "### Exercise 5\n",
    "\n",
    "<div class=\"alert-success\">\n",
    "\n",
    "Plot the levels using ggplot2 in R\n",
    "    \n",
    "</div>"
   ]
  }
 ],
 "metadata": {
  "anaconda-cloud": {
   "attach-environment": true,
   "summary": "test"
  },
  "colab": {
   "provenance": []
  },
  "hide_input": false,
  "kernelspec": {
   "display_name": "Python 3 (ipykernel)",
   "language": "python",
   "name": "python3"
  },
  "language_info": {
   "codemirror_mode": {
    "name": "ipython",
    "version": 3
   },
   "file_extension": ".py",
   "mimetype": "text/x-python",
   "name": "python",
   "nbconvert_exporter": "python",
   "pygments_lexer": "ipython3",
   "version": "3.11.5"
  },
  "toc-autonumbering": false
 },
 "nbformat": 4,
 "nbformat_minor": 4
}
